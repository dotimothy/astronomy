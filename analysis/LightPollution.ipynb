{
 "cells": [
  {
   "cell_type": "markdown",
   "id": "0f83441f-067c-4dfa-970f-9005fbf7b53e",
   "metadata": {},
   "source": [
    "<a href=\"https://colab.research.google.com/github/dotimothy/astronomy/blob/main/analysis/LightPollution.ipynb\" target=\"_parent\"><img src=\"https://colab.research.google.com/assets/colab-badge.svg\" alt=\"Open In Colab\"/></a>"
   ]
  },
  {
   "cell_type": "markdown",
   "id": "0edf5ed3-1d38-4162-9390-9cef50820af4",
   "metadata": {},
   "source": [
    "# LightPollution Visualization 💡\n",
    "\n",
    "This notebook aims to explore light pollution data over periods of time to explore how it is growing over the years. Additionally, this notebook aims to export the data such that it can be visualized in a geographical atlas [1].\n",
    "\n",
    "**Author**: [Timothy Do](https://timothydo.me)\n",
    "\n",
    "## References\n",
    "[1] P. Cinzano, F. Falchi, and C. D. Elvidge, ‘The first World Atlas of the artificial night sky brightness’, Monthly Notices of the Royal Astronomical Society, vol. 328, no. 3, pp. 689–707, 12 2001. <br>\n",
    "[2] C. D. Elvidge, K. E. Baugh, M. Zhizhin, and F.-C. Hsu, “Why VIIRS data are superior to DMSP for mapping nighttime lights,” Asia-Pacific Advanced Network 35, vol. 35, p. 62, 2013. <br>\n",
    "[3] D. J. Lorenz, \"Light Pollution Atlas 2022,\" [Online]. Available: https://djlorenz.github.io/astronomy/lp2022/"
   ]
  },
  {
   "cell_type": "markdown",
   "id": "c506b2b8-02c7-4018-9a4f-cf114e1ae9da",
   "metadata": {},
   "source": [
    "## Dependencies"
   ]
  },
  {
   "cell_type": "code",
   "execution_count": 1,
   "id": "dce43f5d-3031-47ba-8770-3066f887bf23",
   "metadata": {},
   "outputs": [
    {
     "name": "stdout",
     "output_type": "stream",
     "text": [
      "In CoLab: False\n"
     ]
    }
   ],
   "source": [
    "IN_COLAB = True\n",
    "try: \n",
    "    import google.colab\n",
    "except: \n",
    "    IN_COLAB = False\n",
    "print(f'In CoLab: {IN_COLAB}')"
   ]
  },
  {
   "cell_type": "code",
   "execution_count": 2,
   "id": "7e7e1a43-d783-40a6-8aa4-f8c9ea768a96",
   "metadata": {},
   "outputs": [
    {
     "name": "stdout",
     "output_type": "stream",
     "text": [
      "Requirement already satisfied: opencv-python in c:\\users\\timothy do\\appdata\\local\\programs\\python\\python311\\lib\\site-packages (from -r ../requirements.txt (line 2)) (4.10.0.84)\n",
      "Requirement already satisfied: pillow in c:\\users\\timothy do\\appdata\\local\\programs\\python\\python311\\lib\\site-packages (from -r ../requirements.txt (line 3)) (10.4.0)\n",
      "Requirement already satisfied: exifread in c:\\users\\timothy do\\appdata\\local\\programs\\python\\python311\\lib\\site-packages (from -r ../requirements.txt (line 4)) (3.0.0)\n",
      "Requirement already satisfied: matplotlib in c:\\users\\timothy do\\appdata\\local\\programs\\python\\python311\\lib\\site-packages (from -r ../requirements.txt (line 5)) (3.9.2)\n",
      "Requirement already satisfied: numpy in c:\\users\\timothy do\\appdata\\local\\programs\\python\\python311\\lib\\site-packages (from -r ../requirements.txt (line 6)) (1.26.4)\n",
      "Requirement already satisfied: rawpy in c:\\users\\timothy do\\appdata\\local\\programs\\python\\python311\\lib\\site-packages (from -r ../requirements.txt (line 7)) (0.24.0)\n",
      "Requirement already satisfied: tqdm in c:\\users\\timothy do\\appdata\\local\\programs\\python\\python311\\lib\\site-packages (from -r ../requirements.txt (line 8)) (4.66.5)\n",
      "Requirement already satisfied: jupyter in c:\\users\\timothy do\\appdata\\local\\programs\\python\\python311\\lib\\site-packages (from -r ../requirements.txt (line 9)) (1.0.0)\n",
      "Requirement already satisfied: torch in c:\\users\\timothy do\\appdata\\local\\programs\\python\\python311\\lib\\site-packages (from -r ../requirements.txt (line 10)) (2.4.0+cu118)\n",
      "Requirement already satisfied: h5py in c:\\users\\timothy do\\appdata\\local\\programs\\python\\python311\\lib\\site-packages (from -r ../requirements.txt (line 11)) (3.10.0)\n",
      "Requirement already satisfied: pandas in c:\\users\\timothy do\\appdata\\local\\programs\\python\\python311\\lib\\site-packages (from -r ../requirements.txt (line 12)) (2.2.2)\n",
      "Requirement already satisfied: xarray in c:\\users\\timothy do\\appdata\\local\\programs\\python\\python311\\lib\\site-packages (from -r ../requirements.txt (line 13)) (2024.11.0)\n",
      "Requirement already satisfied: earthaccess in c:\\users\\timothy do\\appdata\\local\\programs\\python\\python311\\lib\\site-packages (from -r ../requirements.txt (line 14)) (0.12.0)\n",
      "Requirement already satisfied: contourpy>=1.0.1 in c:\\users\\timothy do\\appdata\\local\\programs\\python\\python311\\lib\\site-packages (from matplotlib->-r ../requirements.txt (line 5)) (1.2.1)\n",
      "Requirement already satisfied: cycler>=0.10 in c:\\users\\timothy do\\appdata\\local\\programs\\python\\python311\\lib\\site-packages (from matplotlib->-r ../requirements.txt (line 5)) (0.12.1)\n",
      "Requirement already satisfied: fonttools>=4.22.0 in c:\\users\\timothy do\\appdata\\local\\programs\\python\\python311\\lib\\site-packages (from matplotlib->-r ../requirements.txt (line 5)) (4.53.1)\n",
      "Requirement already satisfied: kiwisolver>=1.3.1 in c:\\users\\timothy do\\appdata\\local\\programs\\python\\python311\\lib\\site-packages (from matplotlib->-r ../requirements.txt (line 5)) (1.4.5)\n",
      "Requirement already satisfied: packaging>=20.0 in c:\\users\\timothy do\\appdata\\local\\programs\\python\\python311\\lib\\site-packages (from matplotlib->-r ../requirements.txt (line 5)) (24.1)\n",
      "Requirement already satisfied: pyparsing>=2.3.1 in c:\\users\\timothy do\\appdata\\local\\programs\\python\\python311\\lib\\site-packages (from matplotlib->-r ../requirements.txt (line 5)) (3.1.2)\n",
      "Requirement already satisfied: python-dateutil>=2.7 in c:\\users\\timothy do\\appdata\\local\\programs\\python\\python311\\lib\\site-packages (from matplotlib->-r ../requirements.txt (line 5)) (2.9.0.post0)\n",
      "Requirement already satisfied: colorama in c:\\users\\timothy do\\appdata\\local\\programs\\python\\python311\\lib\\site-packages (from tqdm->-r ../requirements.txt (line 8)) (0.4.6)\n",
      "Requirement already satisfied: notebook in c:\\users\\timothy do\\appdata\\local\\programs\\python\\python311\\lib\\site-packages (from jupyter->-r ../requirements.txt (line 9)) (7.0.7)\n",
      "Requirement already satisfied: qtconsole in c:\\users\\timothy do\\appdata\\local\\programs\\python\\python311\\lib\\site-packages (from jupyter->-r ../requirements.txt (line 9)) (5.5.1)\n",
      "Requirement already satisfied: jupyter-console in c:\\users\\timothy do\\appdata\\local\\programs\\python\\python311\\lib\\site-packages (from jupyter->-r ../requirements.txt (line 9)) (6.6.3)\n",
      "Requirement already satisfied: nbconvert in c:\\users\\timothy do\\appdata\\local\\programs\\python\\python311\\lib\\site-packages (from jupyter->-r ../requirements.txt (line 9)) (7.14.2)\n",
      "Requirement already satisfied: ipykernel in c:\\users\\timothy do\\appdata\\local\\programs\\python\\python311\\lib\\site-packages (from jupyter->-r ../requirements.txt (line 9)) (6.29.0)\n",
      "Requirement already satisfied: ipywidgets in c:\\users\\timothy do\\appdata\\local\\programs\\python\\python311\\lib\\site-packages (from jupyter->-r ../requirements.txt (line 9)) (8.1.1)\n",
      "Requirement already satisfied: filelock in c:\\users\\timothy do\\appdata\\local\\programs\\python\\python311\\lib\\site-packages (from torch->-r ../requirements.txt (line 10)) (3.9.0)\n",
      "Requirement already satisfied: typing-extensions>=4.8.0 in c:\\users\\timothy do\\appdata\\local\\programs\\python\\python311\\lib\\site-packages (from torch->-r ../requirements.txt (line 10)) (4.12.2)\n",
      "Requirement already satisfied: sympy in c:\\users\\timothy do\\appdata\\local\\programs\\python\\python311\\lib\\site-packages (from torch->-r ../requirements.txt (line 10)) (1.12)\n",
      "Requirement already satisfied: networkx in c:\\users\\timothy do\\appdata\\local\\programs\\python\\python311\\lib\\site-packages (from torch->-r ../requirements.txt (line 10)) (2.8.8)\n",
      "Requirement already satisfied: jinja2 in c:\\users\\timothy do\\appdata\\local\\programs\\python\\python311\\lib\\site-packages (from torch->-r ../requirements.txt (line 10)) (3.1.2)\n",
      "Requirement already satisfied: fsspec in c:\\users\\timothy do\\appdata\\local\\programs\\python\\python311\\lib\\site-packages (from torch->-r ../requirements.txt (line 10)) (2024.12.0)\n",
      "Requirement already satisfied: pytz>=2020.1 in c:\\users\\timothy do\\appdata\\local\\programs\\python\\python311\\lib\\site-packages (from pandas->-r ../requirements.txt (line 12)) (2022.7.1)\n",
      "Requirement already satisfied: tzdata>=2022.7 in c:\\users\\timothy do\\appdata\\local\\programs\\python\\python311\\lib\\site-packages (from pandas->-r ../requirements.txt (line 12)) (2023.4)\n",
      "Requirement already satisfied: importlib-resources>=6.3.2 in c:\\users\\timothy do\\appdata\\local\\programs\\python\\python311\\lib\\site-packages (from earthaccess->-r ../requirements.txt (line 14)) (6.4.0)\n",
      "Requirement already satisfied: multimethod>=1.8 in c:\\users\\timothy do\\appdata\\local\\programs\\python\\python311\\lib\\site-packages (from earthaccess->-r ../requirements.txt (line 14)) (2.0)\n",
      "Requirement already satisfied: pqdm>=0.1 in c:\\users\\timothy do\\appdata\\local\\programs\\python\\python311\\lib\\site-packages (from earthaccess->-r ../requirements.txt (line 14)) (0.2.0)\n",
      "Requirement already satisfied: python-cmr>=0.10.0 in c:\\users\\timothy do\\appdata\\local\\programs\\python\\python311\\lib\\site-packages (from earthaccess->-r ../requirements.txt (line 14)) (0.13.0)\n",
      "Requirement already satisfied: requests>=2.26 in c:\\users\\timothy do\\appdata\\local\\programs\\python\\python311\\lib\\site-packages (from earthaccess->-r ../requirements.txt (line 14)) (2.32.3)\n",
      "Requirement already satisfied: s3fs>=2022.11 in c:\\users\\timothy do\\appdata\\local\\programs\\python\\python311\\lib\\site-packages (from earthaccess->-r ../requirements.txt (line 14)) (2024.12.0)\n",
      "Requirement already satisfied: tinynetrc>=1.3.1 in c:\\users\\timothy do\\appdata\\local\\programs\\python\\python311\\lib\\site-packages (from earthaccess->-r ../requirements.txt (line 14)) (1.3.1)\n",
      "Requirement already satisfied: bounded-pool-executor in c:\\users\\timothy do\\appdata\\local\\programs\\python\\python311\\lib\\site-packages (from pqdm>=0.1->earthaccess->-r ../requirements.txt (line 14)) (0.0.3)\n",
      "Requirement already satisfied: six>=1.5 in c:\\users\\timothy do\\appdata\\local\\programs\\python\\python311\\lib\\site-packages (from python-dateutil>=2.7->matplotlib->-r ../requirements.txt (line 5)) (1.16.0)\n",
      "Requirement already satisfied: charset-normalizer<4,>=2 in c:\\users\\timothy do\\appdata\\local\\programs\\python\\python311\\lib\\site-packages (from requests>=2.26->earthaccess->-r ../requirements.txt (line 14)) (2.1.1)\n",
      "Requirement already satisfied: idna<4,>=2.5 in c:\\users\\timothy do\\appdata\\local\\programs\\python\\python311\\lib\\site-packages (from requests>=2.26->earthaccess->-r ../requirements.txt (line 14)) (3.4)\n",
      "Requirement already satisfied: urllib3<3,>=1.21.1 in c:\\users\\timothy do\\appdata\\local\\programs\\python\\python311\\lib\\site-packages (from requests>=2.26->earthaccess->-r ../requirements.txt (line 14)) (1.26.19)\n",
      "Requirement already satisfied: certifi>=2017.4.17 in c:\\users\\timothy do\\appdata\\local\\programs\\python\\python311\\lib\\site-packages (from requests>=2.26->earthaccess->-r ../requirements.txt (line 14)) (2022.12.7)\n",
      "Requirement already satisfied: aiobotocore<3.0.0,>=2.5.4 in c:\\users\\timothy do\\appdata\\local\\programs\\python\\python311\\lib\\site-packages (from s3fs>=2022.11->earthaccess->-r ../requirements.txt (line 14)) (2.16.1)\n",
      "Requirement already satisfied: aiohttp!=4.0.0a0,!=4.0.0a1 in c:\\users\\timothy do\\appdata\\local\\programs\\python\\python311\\lib\\site-packages (from s3fs>=2022.11->earthaccess->-r ../requirements.txt (line 14)) (3.9.5)\n",
      "Requirement already satisfied: comm>=0.1.1 in c:\\users\\timothy do\\appdata\\local\\programs\\python\\python311\\lib\\site-packages (from ipykernel->jupyter->-r ../requirements.txt (line 9)) (0.2.1)\n",
      "Requirement already satisfied: debugpy>=1.6.5 in c:\\users\\timothy do\\appdata\\local\\programs\\python\\python311\\lib\\site-packages (from ipykernel->jupyter->-r ../requirements.txt (line 9)) (1.8.0)\n",
      "Requirement already satisfied: ipython>=7.23.1 in c:\\users\\timothy do\\appdata\\local\\programs\\python\\python311\\lib\\site-packages (from ipykernel->jupyter->-r ../requirements.txt (line 9)) (8.20.0)\n",
      "Requirement already satisfied: jupyter-client>=6.1.12 in c:\\users\\timothy do\\appdata\\local\\programs\\python\\python311\\lib\\site-packages (from ipykernel->jupyter->-r ../requirements.txt (line 9)) (8.6.0)\n",
      "Requirement already satisfied: jupyter-core!=5.0.*,>=4.12 in c:\\users\\timothy do\\appdata\\local\\programs\\python\\python311\\lib\\site-packages (from ipykernel->jupyter->-r ../requirements.txt (line 9)) (5.7.1)\n",
      "Requirement already satisfied: matplotlib-inline>=0.1 in c:\\users\\timothy do\\appdata\\local\\programs\\python\\python311\\lib\\site-packages (from ipykernel->jupyter->-r ../requirements.txt (line 9)) (0.1.7)\n",
      "Requirement already satisfied: nest-asyncio in c:\\users\\timothy do\\appdata\\local\\programs\\python\\python311\\lib\\site-packages (from ipykernel->jupyter->-r ../requirements.txt (line 9)) (1.6.0)\n",
      "Requirement already satisfied: psutil in c:\\users\\timothy do\\appdata\\local\\programs\\python\\python311\\lib\\site-packages (from ipykernel->jupyter->-r ../requirements.txt (line 9)) (6.0.0)\n",
      "Requirement already satisfied: pyzmq>=24 in c:\\users\\timothy do\\appdata\\local\\programs\\python\\python311\\lib\\site-packages (from ipykernel->jupyter->-r ../requirements.txt (line 9)) (25.1.2)\n",
      "Requirement already satisfied: tornado>=6.1 in c:\\users\\timothy do\\appdata\\local\\programs\\python\\python311\\lib\\site-packages (from ipykernel->jupyter->-r ../requirements.txt (line 9)) (6.4)\n",
      "Requirement already satisfied: traitlets>=5.4.0 in c:\\users\\timothy do\\appdata\\local\\programs\\python\\python311\\lib\\site-packages (from ipykernel->jupyter->-r ../requirements.txt (line 9)) (5.14.1)\n",
      "Requirement already satisfied: widgetsnbextension~=4.0.9 in c:\\users\\timothy do\\appdata\\local\\programs\\python\\python311\\lib\\site-packages (from ipywidgets->jupyter->-r ../requirements.txt (line 9)) (4.0.9)\n",
      "Requirement already satisfied: jupyterlab-widgets~=3.0.9 in c:\\users\\timothy do\\appdata\\local\\programs\\python\\python311\\lib\\site-packages (from ipywidgets->jupyter->-r ../requirements.txt (line 9)) (3.0.9)\n",
      "Requirement already satisfied: MarkupSafe>=2.0 in c:\\users\\timothy do\\appdata\\local\\programs\\python\\python311\\lib\\site-packages (from jinja2->torch->-r ../requirements.txt (line 10)) (2.1.3)\n",
      "Requirement already satisfied: prompt-toolkit>=3.0.30 in c:\\users\\timothy do\\appdata\\local\\programs\\python\\python311\\lib\\site-packages (from jupyter-console->jupyter->-r ../requirements.txt (line 9)) (3.0.43)\n",
      "Requirement already satisfied: pygments in c:\\users\\timothy do\\appdata\\local\\programs\\python\\python311\\lib\\site-packages (from jupyter-console->jupyter->-r ../requirements.txt (line 9)) (2.17.2)\n",
      "Requirement already satisfied: beautifulsoup4 in c:\\users\\timothy do\\appdata\\local\\programs\\python\\python311\\lib\\site-packages (from nbconvert->jupyter->-r ../requirements.txt (line 9)) (4.12.3)\n",
      "Requirement already satisfied: bleach!=5.0.0 in c:\\users\\timothy do\\appdata\\local\\programs\\python\\python311\\lib\\site-packages (from nbconvert->jupyter->-r ../requirements.txt (line 9)) (5.0.1)\n",
      "Requirement already satisfied: defusedxml in c:\\users\\timothy do\\appdata\\local\\programs\\python\\python311\\lib\\site-packages (from nbconvert->jupyter->-r ../requirements.txt (line 9)) (0.7.1)\n",
      "Requirement already satisfied: jupyterlab-pygments in c:\\users\\timothy do\\appdata\\local\\programs\\python\\python311\\lib\\site-packages (from nbconvert->jupyter->-r ../requirements.txt (line 9)) (0.3.0)\n",
      "Requirement already satisfied: mistune<4,>=2.0.3 in c:\\users\\timothy do\\appdata\\local\\programs\\python\\python311\\lib\\site-packages (from nbconvert->jupyter->-r ../requirements.txt (line 9)) (3.0.2)\n",
      "Requirement already satisfied: nbclient>=0.5.0 in c:\\users\\timothy do\\appdata\\local\\programs\\python\\python311\\lib\\site-packages (from nbconvert->jupyter->-r ../requirements.txt (line 9)) (0.9.0)\n",
      "Requirement already satisfied: nbformat>=5.7 in c:\\users\\timothy do\\appdata\\local\\programs\\python\\python311\\lib\\site-packages (from nbconvert->jupyter->-r ../requirements.txt (line 9)) (5.9.2)\n",
      "Requirement already satisfied: pandocfilters>=1.4.1 in c:\\users\\timothy do\\appdata\\local\\programs\\python\\python311\\lib\\site-packages (from nbconvert->jupyter->-r ../requirements.txt (line 9)) (1.5.1)\n",
      "Requirement already satisfied: tinycss2 in c:\\users\\timothy do\\appdata\\local\\programs\\python\\python311\\lib\\site-packages (from nbconvert->jupyter->-r ../requirements.txt (line 9)) (1.2.1)\n",
      "Requirement already satisfied: jupyter-server<3,>=2.4.0 in c:\\users\\timothy do\\appdata\\local\\programs\\python\\python311\\lib\\site-packages (from notebook->jupyter->-r ../requirements.txt (line 9)) (2.12.5)\n",
      "Requirement already satisfied: jupyterlab-server<3,>=2.22.1 in c:\\users\\timothy do\\appdata\\local\\programs\\python\\python311\\lib\\site-packages (from notebook->jupyter->-r ../requirements.txt (line 9)) (2.25.2)\n",
      "Requirement already satisfied: jupyterlab<5,>=4.0.2 in c:\\users\\timothy do\\appdata\\local\\programs\\python\\python311\\lib\\site-packages (from notebook->jupyter->-r ../requirements.txt (line 9)) (4.0.11)\n",
      "Requirement already satisfied: notebook-shim<0.3,>=0.2 in c:\\users\\timothy do\\appdata\\local\\programs\\python\\python311\\lib\\site-packages (from notebook->jupyter->-r ../requirements.txt (line 9)) (0.2.3)\n",
      "Requirement already satisfied: qtpy>=2.4.0 in c:\\users\\timothy do\\appdata\\local\\programs\\python\\python311\\lib\\site-packages (from qtconsole->jupyter->-r ../requirements.txt (line 9)) (2.4.1)\n",
      "Requirement already satisfied: mpmath>=0.19 in c:\\users\\timothy do\\appdata\\local\\programs\\python\\python311\\lib\\site-packages (from sympy->torch->-r ../requirements.txt (line 10)) (1.3.0)\n",
      "Requirement already satisfied: botocore<1.35.89,>=1.35.74 in c:\\users\\timothy do\\appdata\\local\\programs\\python\\python311\\lib\\site-packages (from aiobotocore<3.0.0,>=2.5.4->s3fs>=2022.11->earthaccess->-r ../requirements.txt (line 14)) (1.35.88)\n",
      "Requirement already satisfied: wrapt<2.0.0,>=1.10.10 in c:\\users\\timothy do\\appdata\\local\\programs\\python\\python311\\lib\\site-packages (from aiobotocore<3.0.0,>=2.5.4->s3fs>=2022.11->earthaccess->-r ../requirements.txt (line 14)) (1.14.1)\n",
      "Requirement already satisfied: aioitertools<1.0.0,>=0.5.1 in c:\\users\\timothy do\\appdata\\local\\programs\\python\\python311\\lib\\site-packages (from aiobotocore<3.0.0,>=2.5.4->s3fs>=2022.11->earthaccess->-r ../requirements.txt (line 14)) (0.12.0)\n",
      "Requirement already satisfied: aiosignal>=1.1.2 in c:\\users\\timothy do\\appdata\\local\\programs\\python\\python311\\lib\\site-packages (from aiohttp!=4.0.0a0,!=4.0.0a1->s3fs>=2022.11->earthaccess->-r ../requirements.txt (line 14)) (1.3.1)\n",
      "Requirement already satisfied: attrs>=17.3.0 in c:\\users\\timothy do\\appdata\\local\\programs\\python\\python311\\lib\\site-packages (from aiohttp!=4.0.0a0,!=4.0.0a1->s3fs>=2022.11->earthaccess->-r ../requirements.txt (line 14)) (23.2.0)\n",
      "Requirement already satisfied: frozenlist>=1.1.1 in c:\\users\\timothy do\\appdata\\local\\programs\\python\\python311\\lib\\site-packages (from aiohttp!=4.0.0a0,!=4.0.0a1->s3fs>=2022.11->earthaccess->-r ../requirements.txt (line 14)) (1.4.1)\n",
      "Requirement already satisfied: multidict<7.0,>=4.5 in c:\\users\\timothy do\\appdata\\local\\programs\\python\\python311\\lib\\site-packages (from aiohttp!=4.0.0a0,!=4.0.0a1->s3fs>=2022.11->earthaccess->-r ../requirements.txt (line 14)) (6.0.5)\n",
      "Requirement already satisfied: yarl<2.0,>=1.0 in c:\\users\\timothy do\\appdata\\local\\programs\\python\\python311\\lib\\site-packages (from aiohttp!=4.0.0a0,!=4.0.0a1->s3fs>=2022.11->earthaccess->-r ../requirements.txt (line 14)) (1.9.4)\n",
      "Requirement already satisfied: webencodings in c:\\users\\timothy do\\appdata\\local\\programs\\python\\python311\\lib\\site-packages (from bleach!=5.0.0->nbconvert->jupyter->-r ../requirements.txt (line 9)) (0.5.1)\n",
      "Requirement already satisfied: decorator in c:\\users\\timothy do\\appdata\\local\\programs\\python\\python311\\lib\\site-packages (from ipython>=7.23.1->ipykernel->jupyter->-r ../requirements.txt (line 9)) (4.4.2)\n",
      "Requirement already satisfied: jedi>=0.16 in c:\\users\\timothy do\\appdata\\local\\programs\\python\\python311\\lib\\site-packages (from ipython>=7.23.1->ipykernel->jupyter->-r ../requirements.txt (line 9)) (0.19.1)\n",
      "Requirement already satisfied: stack-data in c:\\users\\timothy do\\appdata\\local\\programs\\python\\python311\\lib\\site-packages (from ipython>=7.23.1->ipykernel->jupyter->-r ../requirements.txt (line 9)) (0.6.3)\n",
      "Requirement already satisfied: platformdirs>=2.5 in c:\\users\\timothy do\\appdata\\local\\programs\\python\\python311\\lib\\site-packages (from jupyter-core!=5.0.*,>=4.12->ipykernel->jupyter->-r ../requirements.txt (line 9)) (4.1.0)\n",
      "Requirement already satisfied: pywin32>=300 in c:\\users\\timothy do\\appdata\\local\\programs\\python\\python311\\lib\\site-packages (from jupyter-core!=5.0.*,>=4.12->ipykernel->jupyter->-r ../requirements.txt (line 9)) (306)\n",
      "Requirement already satisfied: anyio>=3.1.0 in c:\\users\\timothy do\\appdata\\local\\programs\\python\\python311\\lib\\site-packages (from jupyter-server<3,>=2.4.0->notebook->jupyter->-r ../requirements.txt (line 9)) (4.2.0)\n",
      "Requirement already satisfied: argon2-cffi in c:\\users\\timothy do\\appdata\\local\\programs\\python\\python311\\lib\\site-packages (from jupyter-server<3,>=2.4.0->notebook->jupyter->-r ../requirements.txt (line 9)) (23.1.0)\n",
      "Requirement already satisfied: jupyter-events>=0.9.0 in c:\\users\\timothy do\\appdata\\local\\programs\\python\\python311\\lib\\site-packages (from jupyter-server<3,>=2.4.0->notebook->jupyter->-r ../requirements.txt (line 9)) (0.9.0)\n",
      "Requirement already satisfied: jupyter-server-terminals in c:\\users\\timothy do\\appdata\\local\\programs\\python\\python311\\lib\\site-packages (from jupyter-server<3,>=2.4.0->notebook->jupyter->-r ../requirements.txt (line 9)) (0.5.2)\n",
      "Requirement already satisfied: overrides in c:\\users\\timothy do\\appdata\\local\\programs\\python\\python311\\lib\\site-packages (from jupyter-server<3,>=2.4.0->notebook->jupyter->-r ../requirements.txt (line 9)) (7.7.0)\n",
      "Requirement already satisfied: prometheus-client in c:\\users\\timothy do\\appdata\\local\\programs\\python\\python311\\lib\\site-packages (from jupyter-server<3,>=2.4.0->notebook->jupyter->-r ../requirements.txt (line 9)) (0.19.0)\n",
      "Requirement already satisfied: pywinpty in c:\\users\\timothy do\\appdata\\local\\programs\\python\\python311\\lib\\site-packages (from jupyter-server<3,>=2.4.0->notebook->jupyter->-r ../requirements.txt (line 9)) (2.0.12)\n",
      "Requirement already satisfied: send2trash>=1.8.2 in c:\\users\\timothy do\\appdata\\local\\programs\\python\\python311\\lib\\site-packages (from jupyter-server<3,>=2.4.0->notebook->jupyter->-r ../requirements.txt (line 9)) (1.8.2)\n",
      "Requirement already satisfied: terminado>=0.8.3 in c:\\users\\timothy do\\appdata\\local\\programs\\python\\python311\\lib\\site-packages (from jupyter-server<3,>=2.4.0->notebook->jupyter->-r ../requirements.txt (line 9)) (0.18.0)\n",
      "Requirement already satisfied: websocket-client in c:\\users\\timothy do\\appdata\\local\\programs\\python\\python311\\lib\\site-packages (from jupyter-server<3,>=2.4.0->notebook->jupyter->-r ../requirements.txt (line 9)) (1.7.0)\n",
      "Requirement already satisfied: async-lru>=1.0.0 in c:\\users\\timothy do\\appdata\\local\\programs\\python\\python311\\lib\\site-packages (from jupyterlab<5,>=4.0.2->notebook->jupyter->-r ../requirements.txt (line 9)) (2.0.4)\n",
      "Requirement already satisfied: jupyter-lsp>=2.0.0 in c:\\users\\timothy do\\appdata\\local\\programs\\python\\python311\\lib\\site-packages (from jupyterlab<5,>=4.0.2->notebook->jupyter->-r ../requirements.txt (line 9)) (2.2.2)\n",
      "Requirement already satisfied: babel>=2.10 in c:\\users\\timothy do\\appdata\\local\\programs\\python\\python311\\lib\\site-packages (from jupyterlab-server<3,>=2.22.1->notebook->jupyter->-r ../requirements.txt (line 9)) (2.14.0)\n",
      "Requirement already satisfied: json5>=0.9.0 in c:\\users\\timothy do\\appdata\\local\\programs\\python\\python311\\lib\\site-packages (from jupyterlab-server<3,>=2.22.1->notebook->jupyter->-r ../requirements.txt (line 9)) (0.9.14)\n",
      "Requirement already satisfied: jsonschema>=4.18.0 in c:\\users\\timothy do\\appdata\\local\\programs\\python\\python311\\lib\\site-packages (from jupyterlab-server<3,>=2.22.1->notebook->jupyter->-r ../requirements.txt (line 9)) (4.23.0)\n",
      "Requirement already satisfied: fastjsonschema in c:\\users\\timothy do\\appdata\\local\\programs\\python\\python311\\lib\\site-packages (from nbformat>=5.7->nbconvert->jupyter->-r ../requirements.txt (line 9)) (2.19.1)\n",
      "Requirement already satisfied: wcwidth in c:\\users\\timothy do\\appdata\\local\\programs\\python\\python311\\lib\\site-packages (from prompt-toolkit>=3.0.30->jupyter-console->jupyter->-r ../requirements.txt (line 9)) (0.2.13)\n",
      "Requirement already satisfied: soupsieve>1.2 in c:\\users\\timothy do\\appdata\\local\\programs\\python\\python311\\lib\\site-packages (from beautifulsoup4->nbconvert->jupyter->-r ../requirements.txt (line 9)) (2.5)\n",
      "Requirement already satisfied: sniffio>=1.1 in c:\\users\\timothy do\\appdata\\local\\programs\\python\\python311\\lib\\site-packages (from anyio>=3.1.0->jupyter-server<3,>=2.4.0->notebook->jupyter->-r ../requirements.txt (line 9)) (1.3.0)\n",
      "Requirement already satisfied: jmespath<2.0.0,>=0.7.1 in c:\\users\\timothy do\\appdata\\local\\programs\\python\\python311\\lib\\site-packages (from botocore<1.35.89,>=1.35.74->aiobotocore<3.0.0,>=2.5.4->s3fs>=2022.11->earthaccess->-r ../requirements.txt (line 14)) (1.0.1)\n",
      "Requirement already satisfied: parso<0.9.0,>=0.8.3 in c:\\users\\timothy do\\appdata\\local\\programs\\python\\python311\\lib\\site-packages (from jedi>=0.16->ipython>=7.23.1->ipykernel->jupyter->-r ../requirements.txt (line 9)) (0.8.3)\n",
      "Requirement already satisfied: jsonschema-specifications>=2023.03.6 in c:\\users\\timothy do\\appdata\\local\\programs\\python\\python311\\lib\\site-packages (from jsonschema>=4.18.0->jupyterlab-server<3,>=2.22.1->notebook->jupyter->-r ../requirements.txt (line 9)) (2023.12.1)\n",
      "Requirement already satisfied: referencing>=0.28.4 in c:\\users\\timothy do\\appdata\\local\\programs\\python\\python311\\lib\\site-packages (from jsonschema>=4.18.0->jupyterlab-server<3,>=2.22.1->notebook->jupyter->-r ../requirements.txt (line 9)) (0.32.1)\n",
      "Requirement already satisfied: rpds-py>=0.7.1 in c:\\users\\timothy do\\appdata\\local\\programs\\python\\python311\\lib\\site-packages (from jsonschema>=4.18.0->jupyterlab-server<3,>=2.22.1->notebook->jupyter->-r ../requirements.txt (line 9)) (0.17.1)\n",
      "Requirement already satisfied: python-json-logger>=2.0.4 in c:\\users\\timothy do\\appdata\\local\\programs\\python\\python311\\lib\\site-packages (from jupyter-events>=0.9.0->jupyter-server<3,>=2.4.0->notebook->jupyter->-r ../requirements.txt (line 9)) (2.0.4)\n",
      "Requirement already satisfied: pyyaml>=5.3 in c:\\users\\timothy do\\appdata\\local\\programs\\python\\python311\\lib\\site-packages (from jupyter-events>=0.9.0->jupyter-server<3,>=2.4.0->notebook->jupyter->-r ../requirements.txt (line 9)) (6.0.2)\n",
      "Requirement already satisfied: rfc3339-validator in c:\\users\\timothy do\\appdata\\local\\programs\\python\\python311\\lib\\site-packages (from jupyter-events>=0.9.0->jupyter-server<3,>=2.4.0->notebook->jupyter->-r ../requirements.txt (line 9)) (0.1.4)\n",
      "Requirement already satisfied: rfc3986-validator>=0.1.1 in c:\\users\\timothy do\\appdata\\local\\programs\\python\\python311\\lib\\site-packages (from jupyter-events>=0.9.0->jupyter-server<3,>=2.4.0->notebook->jupyter->-r ../requirements.txt (line 9)) (0.1.1)\n",
      "Requirement already satisfied: argon2-cffi-bindings in c:\\users\\timothy do\\appdata\\local\\programs\\python\\python311\\lib\\site-packages (from argon2-cffi->jupyter-server<3,>=2.4.0->notebook->jupyter->-r ../requirements.txt (line 9)) (21.2.0)\n",
      "Requirement already satisfied: executing>=1.2.0 in c:\\users\\timothy do\\appdata\\local\\programs\\python\\python311\\lib\\site-packages (from stack-data->ipython>=7.23.1->ipykernel->jupyter->-r ../requirements.txt (line 9)) (2.0.1)\n",
      "Requirement already satisfied: asttokens>=2.1.0 in c:\\users\\timothy do\\appdata\\local\\programs\\python\\python311\\lib\\site-packages (from stack-data->ipython>=7.23.1->ipykernel->jupyter->-r ../requirements.txt (line 9)) (2.4.1)\n",
      "Requirement already satisfied: pure-eval in c:\\users\\timothy do\\appdata\\local\\programs\\python\\python311\\lib\\site-packages (from stack-data->ipython>=7.23.1->ipykernel->jupyter->-r ../requirements.txt (line 9)) (0.2.2)\n",
      "Requirement already satisfied: fqdn in c:\\users\\timothy do\\appdata\\local\\programs\\python\\python311\\lib\\site-packages (from jsonschema[format-nongpl]>=4.18.0->jupyter-events>=0.9.0->jupyter-server<3,>=2.4.0->notebook->jupyter->-r ../requirements.txt (line 9)) (1.5.1)\n",
      "Requirement already satisfied: isoduration in c:\\users\\timothy do\\appdata\\local\\programs\\python\\python311\\lib\\site-packages (from jsonschema[format-nongpl]>=4.18.0->jupyter-events>=0.9.0->jupyter-server<3,>=2.4.0->notebook->jupyter->-r ../requirements.txt (line 9)) (20.11.0)\n",
      "Requirement already satisfied: jsonpointer>1.13 in c:\\users\\timothy do\\appdata\\local\\programs\\python\\python311\\lib\\site-packages (from jsonschema[format-nongpl]>=4.18.0->jupyter-events>=0.9.0->jupyter-server<3,>=2.4.0->notebook->jupyter->-r ../requirements.txt (line 9)) (2.4)\n",
      "Requirement already satisfied: uri-template in c:\\users\\timothy do\\appdata\\local\\programs\\python\\python311\\lib\\site-packages (from jsonschema[format-nongpl]>=4.18.0->jupyter-events>=0.9.0->jupyter-server<3,>=2.4.0->notebook->jupyter->-r ../requirements.txt (line 9)) (1.3.0)\n",
      "Requirement already satisfied: webcolors>=24.6.0 in c:\\users\\timothy do\\appdata\\local\\programs\\python\\python311\\lib\\site-packages (from jsonschema[format-nongpl]>=4.18.0->jupyter-events>=0.9.0->jupyter-server<3,>=2.4.0->notebook->jupyter->-r ../requirements.txt (line 9)) (24.6.0)\n",
      "Requirement already satisfied: cffi>=1.0.1 in c:\\users\\timothy do\\appdata\\local\\programs\\python\\python311\\lib\\site-packages (from argon2-cffi-bindings->argon2-cffi->jupyter-server<3,>=2.4.0->notebook->jupyter->-r ../requirements.txt (line 9)) (1.16.0)\n",
      "Requirement already satisfied: pycparser in c:\\users\\timothy do\\appdata\\local\\programs\\python\\python311\\lib\\site-packages (from cffi>=1.0.1->argon2-cffi-bindings->argon2-cffi->jupyter-server<3,>=2.4.0->notebook->jupyter->-r ../requirements.txt (line 9)) (2.22)\n",
      "Requirement already satisfied: arrow>=0.15.0 in c:\\users\\timothy do\\appdata\\local\\programs\\python\\python311\\lib\\site-packages (from isoduration->jsonschema[format-nongpl]>=4.18.0->jupyter-events>=0.9.0->jupyter-server<3,>=2.4.0->notebook->jupyter->-r ../requirements.txt (line 9)) (1.3.0)\n",
      "Requirement already satisfied: types-python-dateutil>=2.8.10 in c:\\users\\timothy do\\appdata\\local\\programs\\python\\python311\\lib\\site-packages (from arrow>=0.15.0->isoduration->jsonschema[format-nongpl]>=4.18.0->jupyter-events>=0.9.0->jupyter-server<3,>=2.4.0->notebook->jupyter->-r ../requirements.txt (line 9)) (2.8.19.20240106)\n"
     ]
    },
    {
     "name": "stderr",
     "output_type": "stream",
     "text": [
      "\n",
      "[notice] A new release of pip is available: 24.2 -> 24.3.1\n",
      "[notice] To update, run: python.exe -m pip install --upgrade pip\n"
     ]
    }
   ],
   "source": [
    "if(IN_COLAB):\n",
    "    !curl https://raw.githubusercontent.com/dotimothy/astronomy/main/requirements.txt -o ./requirements.txt\n",
    "    !pip install -r requirements.txt\n",
    "else:\n",
    "    !pip install -r ../requirements.txt"
   ]
  },
  {
   "cell_type": "code",
   "execution_count": 3,
   "id": "2e6a1a19-4203-4a6c-900d-5ba5e9b76ce2",
   "metadata": {},
   "outputs": [],
   "source": [
    "# Dependencies\n",
    "import os\n",
    "import numpy as np \n",
    "import matplotlib.pyplot as plt\n",
    "import cv2 as cv\n",
    "from tqdm import tqdm\n",
    "import earthaccess\n",
    "import h5py"
   ]
  },
  {
   "cell_type": "code",
   "execution_count": 4,
   "id": "1d211870-7d4c-489b-8edb-9ba24e2b9ee8",
   "metadata": {},
   "outputs": [],
   "source": [
    "# Helper Functions\n",
    "def normalize(array):\n",
    "    return (array - array.min())/(array.max()-array.min())"
   ]
  },
  {
   "cell_type": "markdown",
   "id": "7c317be7-9f29-4635-9ba2-ddb82e312bc0",
   "metadata": {},
   "source": [
    "## Downloading the Data\n",
    "For processing the light pollution data, we will be using NASA VIIRS DNB. Before proceeding, make sure you have a [NASA Earthdata](https://urs.earthdata.nasa.gov/home) account."
   ]
  },
  {
   "cell_type": "code",
   "execution_count": 5,
   "id": "81a6993a-0c37-4c7d-98f7-0d52c69845ef",
   "metadata": {},
   "outputs": [],
   "source": [
    "# Creating Directory to Store the Data\n",
    "dataDir = '../data/lightpollution'\n",
    "os.makedirs(dataDir,exist_ok=True)"
   ]
  },
  {
   "cell_type": "markdown",
   "id": "b78555b0-0c3e-43af-90ba-9469d4be0cf3",
   "metadata": {},
   "source": [
    "In the earthdata library, you need to log into your NASA Earthdata account."
   ]
  },
  {
   "cell_type": "code",
   "execution_count": 6,
   "id": "2d37c6bb-7a23-4ba1-a2f0-8a2a9b879bba",
   "metadata": {},
   "outputs": [
    {
     "name": "stdin",
     "output_type": "stream",
     "text": [
      "Enter your Earthdata Login username:  dotimothy\n",
      "Enter your Earthdata password:  ········\n"
     ]
    },
    {
     "name": "stdout",
     "output_type": "stream",
     "text": [
      "Earthdata Logged In: True\n"
     ]
    }
   ],
   "source": [
    "# Authenticate with your Earthdata Login credentials\n",
    "logged_in = False\n",
    "auth = None\n",
    "attempts = 0\n",
    "while(not(logged_in)):\n",
    "    attempts += 1\n",
    "    auth = earthaccess.login()\n",
    "    logged_in = auth.authenticated\n",
    "    if(not(logged_in)): print('Login Failed. Try Again.')\n",
    "    if(attempts == 3): break\n",
    "print(f'Earthdata Logged In: {logged_in}')"
   ]
  },
  {
   "cell_type": "code",
   "execution_count": 7,
   "id": "2c8b60b7-3a99-4f97-9c2e-bf003e4b653e",
   "metadata": {},
   "outputs": [
    {
     "data": {
      "application/vnd.jupyter.widget-view+json": {
       "model_id": "972a7da7a63f4324a146a227664244d4",
       "version_major": 2,
       "version_minor": 0
      },
      "text/plain": [
       "QUEUEING TASKS | :   0%|          | 0/1 [00:00<?, ?it/s]"
      ]
     },
     "metadata": {},
     "output_type": "display_data"
    },
    {
     "data": {
      "application/vnd.jupyter.widget-view+json": {
       "model_id": "4ab0e956a3f945d6b0c49e05737c93bf",
       "version_major": 2,
       "version_minor": 0
      },
      "text/plain": [
       "PROCESSING TASKS | :   0%|          | 0/1 [00:00<?, ?it/s]"
      ]
     },
     "metadata": {},
     "output_type": "display_data"
    },
    {
     "data": {
      "application/vnd.jupyter.widget-view+json": {
       "model_id": "dc14de1cf0ef41588b8c4c8402683e3c",
       "version_major": 2,
       "version_minor": 0
      },
      "text/plain": [
       "COLLECTING RESULTS | :   0%|          | 0/1 [00:00<?, ?it/s]"
      ]
     },
     "metadata": {},
     "output_type": "display_data"
    }
   ],
   "source": [
    "results = earthaccess.search_data(\n",
    "    short_name='VNP46A1',\n",
    "    temporal=('2024-12-20','2024-12-20'),\n",
    "    count=1\n",
    ")\n",
    "\n",
    "h5files = earthaccess.download(results, dataDir)"
   ]
  },
  {
   "cell_type": "code",
   "execution_count": 8,
   "id": "6fac0156-62bb-4f42-808d-b4ba140c8413",
   "metadata": {},
   "outputs": [
    {
     "name": "stdout",
     "output_type": "stream",
     "text": [
      "<KeysViewHDF5 ['BrightnessTemperature_M12', 'BrightnessTemperature_M13', 'BrightnessTemperature_M15', 'BrightnessTemperature_M16', 'DNB_At_Sensor_Radiance_500m', 'Glint_Angle', 'Granule', 'Lunar_Azimuth', 'Lunar_Zenith', 'Moon_Illumination_Fraction', 'Moon_Phase_Angle', 'QF_Cloud_Mask', 'QF_DNB', 'QF_VIIRS_M10', 'QF_VIIRS_M11', 'QF_VIIRS_M12', 'QF_VIIRS_M13', 'QF_VIIRS_M15', 'QF_VIIRS_M16', 'Radiance_M10', 'Radiance_M11', 'Sensor_Azimuth', 'Sensor_Zenith', 'Solar_Azimuth', 'Solar_Zenith', 'UTC_Time']>\n",
      "Radiance Shape: (2400, 2400)\n",
      "Radiance Data Type: float32\n"
     ]
    }
   ],
   "source": [
    "testFile = h5files[0]\n",
    "with h5py.File(testFile,'r') as f:\n",
    "    print(f['HDFEOS']['GRIDS']['VNP_Grid_DNB']['Data Fields'].keys())\n",
    "    dnb = f['HDFEOS']['GRIDS']['VNP_Grid_DNB']['Data Fields']['DNB_At_Sensor_Radiance_500m'][:].astype(np.float32)\n",
    "    print(f'Radiance Shape: {dnb.shape}') \n",
    "    print(f'Radiance Data Type: {dnb.dtype}')"
   ]
  },
  {
   "cell_type": "code",
   "execution_count": 9,
   "id": "4823cc2a-7762-4115-af33-6d3da4587861",
   "metadata": {},
   "outputs": [
    {
     "data": {
      "image/png": "[encoded data removed]",
      "text/plain": [
       "<Figure size 1500x1000 with 1 Axes>"
      ]
     },
     "metadata": {},
     "output_type": "display_data"
    }
   ],
   "source": [
    "plt.figure(figsize=(15,10))\n",
    "plt.imshow(normalize(dnb),cmap='jet')\n",
    "plt.title('Radiance')\n",
    "plt.axis('off')\n",
    "plt.show() "
   ]
  }
 ],
 "metadata": {
  "kernelspec": {
   "display_name": "Python 3 (ipykernel)",
   "language": "python",
   "name": "python3"
  },
  "language_info": {
   "codemirror_mode": {
    "name": "ipython",
    "version": 3
   },
   "file_extension": ".py",
   "mimetype": "text/x-python",
   "name": "python",
   "nbconvert_exporter": "python",
   "pygments_lexer": "ipython3",
   "version": "3.11.7"
  }
 },
 "nbformat": 4,
 "nbformat_minor": 5
}
