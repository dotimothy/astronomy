{
 "cells": [
  {
   "cell_type": "markdown",
   "id": "0edf5ed3-1d38-4162-9390-9cef50820af4",
   "metadata": {},
   "source": [
    "# LightPollution Visualization 💡\n",
    "\n",
    "This notebook aims to explore light pollution data over periods of time to explore how it is growing over the years. Additionally, this notebook aims to export the data such that it can be visualized in a geographical atlas [1].\n",
    "\n",
    "## Citations\n",
    "[1] P. Cinzano, F. Falchi, and C. D. Elvidge, ‘The first World Atlas of the artificial night sky brightness’, Monthly Notices of the Royal Astronomical Society, vol. 328, no. 3, pp. 689–707, 12 2001. <br>\n",
    "[2] C. D. Elvidge, K. E. Baugh, M. Zhizhin, and F.-C. Hsu, “Why VIIRS data are superior to DMSP for mapping nighttime lights,” Asia-Pacific Advanced Network 35, vol. 35, p. 62, 2013. <br>\n",
    "[3] D. J. Lorenz, \"Light Pollution Atlas 2022,\" [Online]. Available: https://djlorenz.github.io/astronomy/lp2022/"
   ]
  },
  {
   "cell_type": "markdown",
   "id": "c506b2b8-02c7-4018-9a4f-cf114e1ae9da",
   "metadata": {},
   "source": [
    "## Dependencies"
   ]
  },
  {
   "cell_type": "code",
   "execution_count": 15,
   "id": "7e7e1a43-d783-40a6-8aa4-f8c9ea768a96",
   "metadata": {},
   "outputs": [
    {
     "name": "stdout",
     "output_type": "stream",
     "text": [
      "Requirement already satisfied: opencv-python in /Users/tim/env/lib/python3.9/site-packages (from -r ../requirements.txt (line 2)) (4.10.0.84)\n",
      "Requirement already satisfied: pillow in /Users/tim/env/lib/python3.9/site-packages (from -r ../requirements.txt (line 3)) (11.0.0)\n",
      "Requirement already satisfied: exifread in /Users/tim/env/lib/python3.9/site-packages (from -r ../requirements.txt (line 4)) (3.0.0)\n",
      "Requirement already satisfied: matplotlib in /Users/tim/env/lib/python3.9/site-packages (from -r ../requirements.txt (line 5)) (3.9.2)\n",
      "Requirement already satisfied: numpy in /Users/tim/env/lib/python3.9/site-packages (from -r ../requirements.txt (line 6)) (2.0.2)\n",
      "Requirement already satisfied: tqdm in /Users/tim/env/lib/python3.9/site-packages (from -r ../requirements.txt (line 7)) (4.67.0)\n",
      "Requirement already satisfied: jupyter in /Users/tim/env/lib/python3.9/site-packages (from -r ../requirements.txt (line 8)) (1.1.1)\n",
      "Requirement already satisfied: torch in /Users/tim/env/lib/python3.9/site-packages (from -r ../requirements.txt (line 9)) (2.5.1)\n",
      "Collecting h5py (from -r ../requirements.txt (line 10))\n",
      "  Downloading h5py-3.12.1-cp39-cp39-macosx_11_0_arm64.whl.metadata (2.5 kB)\n",
      "Requirement already satisfied: pandas in /Users/tim/env/lib/python3.9/site-packages (from -r ../requirements.txt (line 11)) (2.2.3)\n",
      "Requirement already satisfied: xarray in /Users/tim/env/lib/python3.9/site-packages (from -r ../requirements.txt (line 12)) (2024.7.0)\n",
      "Requirement already satisfied: earthaccess in /Users/tim/env/lib/python3.9/site-packages (from -r ../requirements.txt (line 13)) (0.11.0)\n",
      "Requirement already satisfied: contourpy>=1.0.1 in /Users/tim/env/lib/python3.9/site-packages (from matplotlib->-r ../requirements.txt (line 5)) (1.3.0)\n",
      "Requirement already satisfied: cycler>=0.10 in /Users/tim/env/lib/python3.9/site-packages (from matplotlib->-r ../requirements.txt (line 5)) (0.12.1)\n",
      "Requirement already satisfied: fonttools>=4.22.0 in /Users/tim/env/lib/python3.9/site-packages (from matplotlib->-r ../requirements.txt (line 5)) (4.55.0)\n",
      "Requirement already satisfied: kiwisolver>=1.3.1 in /Users/tim/env/lib/python3.9/site-packages (from matplotlib->-r ../requirements.txt (line 5)) (1.4.7)\n",
      "Requirement already satisfied: packaging>=20.0 in /Users/tim/env/lib/python3.9/site-packages (from matplotlib->-r ../requirements.txt (line 5)) (24.2)\n",
      "Requirement already satisfied: pyparsing>=2.3.1 in /Users/tim/env/lib/python3.9/site-packages (from matplotlib->-r ../requirements.txt (line 5)) (3.2.0)\n",
      "Requirement already satisfied: python-dateutil>=2.7 in /Users/tim/env/lib/python3.9/site-packages (from matplotlib->-r ../requirements.txt (line 5)) (2.9.0.post0)\n",
      "Requirement already satisfied: importlib-resources>=3.2.0 in /Users/tim/env/lib/python3.9/site-packages (from matplotlib->-r ../requirements.txt (line 5)) (6.4.5)\n",
      "Requirement already satisfied: notebook in /Users/tim/env/lib/python3.9/site-packages (from jupyter->-r ../requirements.txt (line 8)) (7.2.2)\n",
      "Requirement already satisfied: jupyter-console in /Users/tim/env/lib/python3.9/site-packages (from jupyter->-r ../requirements.txt (line 8)) (6.6.3)\n",
      "Requirement already satisfied: nbconvert in /Users/tim/env/lib/python3.9/site-packages (from jupyter->-r ../requirements.txt (line 8)) (7.16.4)\n",
      "Requirement already satisfied: ipykernel in /Users/tim/env/lib/python3.9/site-packages (from jupyter->-r ../requirements.txt (line 8)) (6.29.5)\n",
      "Requirement already satisfied: ipywidgets in /Users/tim/env/lib/python3.9/site-packages (from jupyter->-r ../requirements.txt (line 8)) (8.1.5)\n",
      "Requirement already satisfied: jupyterlab in /Users/tim/env/lib/python3.9/site-packages (from jupyter->-r ../requirements.txt (line 8)) (4.2.6)\n",
      "Requirement already satisfied: filelock in /Users/tim/env/lib/python3.9/site-packages (from torch->-r ../requirements.txt (line 9)) (3.16.1)\n",
      "Requirement already satisfied: typing-extensions>=4.8.0 in /Users/tim/env/lib/python3.9/site-packages (from torch->-r ../requirements.txt (line 9)) (4.12.2)\n",
      "Requirement already satisfied: networkx in /Users/tim/env/lib/python3.9/site-packages (from torch->-r ../requirements.txt (line 9)) (3.2.1)\n",
      "Requirement already satisfied: jinja2 in /Users/tim/env/lib/python3.9/site-packages (from torch->-r ../requirements.txt (line 9)) (3.1.4)\n",
      "Requirement already satisfied: fsspec in /Users/tim/env/lib/python3.9/site-packages (from torch->-r ../requirements.txt (line 9)) (2024.12.0)\n",
      "Requirement already satisfied: sympy==1.13.1 in /Users/tim/env/lib/python3.9/site-packages (from torch->-r ../requirements.txt (line 9)) (1.13.1)\n",
      "Requirement already satisfied: mpmath<1.4,>=1.1.0 in /Users/tim/env/lib/python3.9/site-packages (from sympy==1.13.1->torch->-r ../requirements.txt (line 9)) (1.3.0)\n",
      "Requirement already satisfied: pytz>=2020.1 in /Users/tim/env/lib/python3.9/site-packages (from pandas->-r ../requirements.txt (line 11)) (2024.2)\n",
      "Requirement already satisfied: tzdata>=2022.7 in /Users/tim/env/lib/python3.9/site-packages (from pandas->-r ../requirements.txt (line 11)) (2024.2)\n",
      "Requirement already satisfied: multimethod>=1.8 in /Users/tim/env/lib/python3.9/site-packages (from earthaccess->-r ../requirements.txt (line 13)) (1.12)\n",
      "Requirement already satisfied: pqdm>=0.1 in /Users/tim/env/lib/python3.9/site-packages (from earthaccess->-r ../requirements.txt (line 13)) (0.2.0)\n",
      "Requirement already satisfied: python-cmr>=0.10.0 in /Users/tim/env/lib/python3.9/site-packages (from earthaccess->-r ../requirements.txt (line 13)) (0.13.0)\n",
      "Requirement already satisfied: requests>=2.26 in /Users/tim/env/lib/python3.9/site-packages (from earthaccess->-r ../requirements.txt (line 13)) (2.32.3)\n",
      "Requirement already satisfied: s3fs>=2022.11 in /Users/tim/env/lib/python3.9/site-packages (from earthaccess->-r ../requirements.txt (line 13)) (2024.12.0)\n",
      "Requirement already satisfied: tinynetrc>=1.3.1 in /Users/tim/env/lib/python3.9/site-packages (from earthaccess->-r ../requirements.txt (line 13)) (1.3.1)\n",
      "Requirement already satisfied: zipp>=3.1.0 in /Users/tim/env/lib/python3.9/site-packages (from importlib-resources>=3.2.0->matplotlib->-r ../requirements.txt (line 5)) (3.21.0)\n",
      "Requirement already satisfied: bounded-pool-executor in /Users/tim/env/lib/python3.9/site-packages (from pqdm>=0.1->earthaccess->-r ../requirements.txt (line 13)) (0.0.3)\n",
      "Requirement already satisfied: six>=1.5 in /Users/tim/env/lib/python3.9/site-packages (from python-dateutil>=2.7->matplotlib->-r ../requirements.txt (line 5)) (1.16.0)\n",
      "Requirement already satisfied: charset-normalizer<4,>=2 in /Users/tim/env/lib/python3.9/site-packages (from requests>=2.26->earthaccess->-r ../requirements.txt (line 13)) (3.4.0)\n",
      "Requirement already satisfied: idna<4,>=2.5 in /Users/tim/env/lib/python3.9/site-packages (from requests>=2.26->earthaccess->-r ../requirements.txt (line 13)) (3.10)\n",
      "Requirement already satisfied: urllib3<3,>=1.21.1 in /Users/tim/env/lib/python3.9/site-packages (from requests>=2.26->earthaccess->-r ../requirements.txt (line 13)) (1.26.20)\n",
      "Requirement already satisfied: certifi>=2017.4.17 in /Users/tim/env/lib/python3.9/site-packages (from requests>=2.26->earthaccess->-r ../requirements.txt (line 13)) (2024.8.30)\n",
      "Requirement already satisfied: aiobotocore<3.0.0,>=2.5.4 in /Users/tim/env/lib/python3.9/site-packages (from s3fs>=2022.11->earthaccess->-r ../requirements.txt (line 13)) (2.16.0)\n",
      "Requirement already satisfied: aiohttp!=4.0.0a0,!=4.0.0a1 in /Users/tim/env/lib/python3.9/site-packages (from s3fs>=2022.11->earthaccess->-r ../requirements.txt (line 13)) (3.11.11)\n",
      "Requirement already satisfied: appnope in /Users/tim/env/lib/python3.9/site-packages (from ipykernel->jupyter->-r ../requirements.txt (line 8)) (0.1.4)\n",
      "Requirement already satisfied: comm>=0.1.1 in /Users/tim/env/lib/python3.9/site-packages (from ipykernel->jupyter->-r ../requirements.txt (line 8)) (0.2.2)\n",
      "Requirement already satisfied: debugpy>=1.6.5 in /Users/tim/env/lib/python3.9/site-packages (from ipykernel->jupyter->-r ../requirements.txt (line 8)) (1.8.8)\n",
      "Requirement already satisfied: ipython>=7.23.1 in /Users/tim/env/lib/python3.9/site-packages (from ipykernel->jupyter->-r ../requirements.txt (line 8)) (8.18.1)\n",
      "Requirement already satisfied: jupyter-client>=6.1.12 in /Users/tim/env/lib/python3.9/site-packages (from ipykernel->jupyter->-r ../requirements.txt (line 8)) (8.6.3)\n",
      "Requirement already satisfied: jupyter-core!=5.0.*,>=4.12 in /Users/tim/env/lib/python3.9/site-packages (from ipykernel->jupyter->-r ../requirements.txt (line 8)) (5.7.2)\n",
      "Requirement already satisfied: matplotlib-inline>=0.1 in /Users/tim/env/lib/python3.9/site-packages (from ipykernel->jupyter->-r ../requirements.txt (line 8)) (0.1.7)\n",
      "Requirement already satisfied: nest-asyncio in /Users/tim/env/lib/python3.9/site-packages (from ipykernel->jupyter->-r ../requirements.txt (line 8)) (1.6.0)\n",
      "Requirement already satisfied: psutil in /Users/tim/env/lib/python3.9/site-packages (from ipykernel->jupyter->-r ../requirements.txt (line 8)) (6.1.0)\n",
      "Requirement already satisfied: pyzmq>=24 in /Users/tim/env/lib/python3.9/site-packages (from ipykernel->jupyter->-r ../requirements.txt (line 8)) (26.2.0)\n",
      "Requirement already satisfied: tornado>=6.1 in /Users/tim/env/lib/python3.9/site-packages (from ipykernel->jupyter->-r ../requirements.txt (line 8)) (6.4.1)\n",
      "Requirement already satisfied: traitlets>=5.4.0 in /Users/tim/env/lib/python3.9/site-packages (from ipykernel->jupyter->-r ../requirements.txt (line 8)) (5.14.3)\n",
      "Requirement already satisfied: widgetsnbextension~=4.0.12 in /Users/tim/env/lib/python3.9/site-packages (from ipywidgets->jupyter->-r ../requirements.txt (line 8)) (4.0.13)\n",
      "Requirement already satisfied: jupyterlab-widgets~=3.0.12 in /Users/tim/env/lib/python3.9/site-packages (from ipywidgets->jupyter->-r ../requirements.txt (line 8)) (3.0.13)\n",
      "Requirement already satisfied: MarkupSafe>=2.0 in /Users/tim/env/lib/python3.9/site-packages (from jinja2->torch->-r ../requirements.txt (line 9)) (2.1.5)\n",
      "Requirement already satisfied: prompt-toolkit>=3.0.30 in /Users/tim/env/lib/python3.9/site-packages (from jupyter-console->jupyter->-r ../requirements.txt (line 8)) (3.0.48)\n",
      "Requirement already satisfied: pygments in /Users/tim/env/lib/python3.9/site-packages (from jupyter-console->jupyter->-r ../requirements.txt (line 8)) (2.18.0)\n",
      "Requirement already satisfied: async-lru>=1.0.0 in /Users/tim/env/lib/python3.9/site-packages (from jupyterlab->jupyter->-r ../requirements.txt (line 8)) (2.0.4)\n",
      "Requirement already satisfied: httpx>=0.25.0 in /Users/tim/env/lib/python3.9/site-packages (from jupyterlab->jupyter->-r ../requirements.txt (line 8)) (0.27.2)\n",
      "Requirement already satisfied: importlib-metadata>=4.8.3 in /Users/tim/env/lib/python3.9/site-packages (from jupyterlab->jupyter->-r ../requirements.txt (line 8)) (8.5.0)\n",
      "Requirement already satisfied: jupyter-lsp>=2.0.0 in /Users/tim/env/lib/python3.9/site-packages (from jupyterlab->jupyter->-r ../requirements.txt (line 8)) (2.2.5)\n",
      "Requirement already satisfied: jupyter-server<3,>=2.4.0 in /Users/tim/env/lib/python3.9/site-packages (from jupyterlab->jupyter->-r ../requirements.txt (line 8)) (2.14.2)\n",
      "Requirement already satisfied: jupyterlab-server<3,>=2.27.1 in /Users/tim/env/lib/python3.9/site-packages (from jupyterlab->jupyter->-r ../requirements.txt (line 8)) (2.27.3)\n",
      "Requirement already satisfied: notebook-shim>=0.2 in /Users/tim/env/lib/python3.9/site-packages (from jupyterlab->jupyter->-r ../requirements.txt (line 8)) (0.2.4)\n",
      "Requirement already satisfied: setuptools>=40.1.0 in /Users/tim/env/lib/python3.9/site-packages (from jupyterlab->jupyter->-r ../requirements.txt (line 8)) (74.1.2)\n",
      "Requirement already satisfied: tomli>=1.2.2 in /Users/tim/env/lib/python3.9/site-packages (from jupyterlab->jupyter->-r ../requirements.txt (line 8)) (2.1.0)\n",
      "Requirement already satisfied: beautifulsoup4 in /Users/tim/env/lib/python3.9/site-packages (from nbconvert->jupyter->-r ../requirements.txt (line 8)) (4.12.3)\n",
      "Requirement already satisfied: bleach!=5.0.0 in /Users/tim/env/lib/python3.9/site-packages (from nbconvert->jupyter->-r ../requirements.txt (line 8)) (6.2.0)\n",
      "Requirement already satisfied: defusedxml in /Users/tim/env/lib/python3.9/site-packages (from nbconvert->jupyter->-r ../requirements.txt (line 8)) (0.7.1)\n",
      "Requirement already satisfied: jupyterlab-pygments in /Users/tim/env/lib/python3.9/site-packages (from nbconvert->jupyter->-r ../requirements.txt (line 8)) (0.3.0)\n",
      "Requirement already satisfied: mistune<4,>=2.0.3 in /Users/tim/env/lib/python3.9/site-packages (from nbconvert->jupyter->-r ../requirements.txt (line 8)) (3.0.2)\n",
      "Requirement already satisfied: nbclient>=0.5.0 in /Users/tim/env/lib/python3.9/site-packages (from nbconvert->jupyter->-r ../requirements.txt (line 8)) (0.10.0)\n",
      "Requirement already satisfied: nbformat>=5.7 in /Users/tim/env/lib/python3.9/site-packages (from nbconvert->jupyter->-r ../requirements.txt (line 8)) (5.10.4)\n",
      "Requirement already satisfied: pandocfilters>=1.4.1 in /Users/tim/env/lib/python3.9/site-packages (from nbconvert->jupyter->-r ../requirements.txt (line 8)) (1.5.1)\n",
      "Requirement already satisfied: tinycss2 in /Users/tim/env/lib/python3.9/site-packages (from nbconvert->jupyter->-r ../requirements.txt (line 8)) (1.4.0)\n",
      "Requirement already satisfied: botocore<1.35.82,>=1.35.74 in /Users/tim/env/lib/python3.9/site-packages (from aiobotocore<3.0.0,>=2.5.4->s3fs>=2022.11->earthaccess->-r ../requirements.txt (line 13)) (1.35.81)\n",
      "Requirement already satisfied: wrapt<2.0.0,>=1.10.10 in /Users/tim/env/lib/python3.9/site-packages (from aiobotocore<3.0.0,>=2.5.4->s3fs>=2022.11->earthaccess->-r ../requirements.txt (line 13)) (1.17.0)\n",
      "Requirement already satisfied: aioitertools<1.0.0,>=0.5.1 in /Users/tim/env/lib/python3.9/site-packages (from aiobotocore<3.0.0,>=2.5.4->s3fs>=2022.11->earthaccess->-r ../requirements.txt (line 13)) (0.12.0)\n",
      "Requirement already satisfied: aiohappyeyeballs>=2.3.0 in /Users/tim/env/lib/python3.9/site-packages (from aiohttp!=4.0.0a0,!=4.0.0a1->s3fs>=2022.11->earthaccess->-r ../requirements.txt (line 13)) (2.4.4)\n",
      "Requirement already satisfied: aiosignal>=1.1.2 in /Users/tim/env/lib/python3.9/site-packages (from aiohttp!=4.0.0a0,!=4.0.0a1->s3fs>=2022.11->earthaccess->-r ../requirements.txt (line 13)) (1.3.2)\n",
      "Requirement already satisfied: async-timeout<6.0,>=4.0 in /Users/tim/env/lib/python3.9/site-packages (from aiohttp!=4.0.0a0,!=4.0.0a1->s3fs>=2022.11->earthaccess->-r ../requirements.txt (line 13)) (5.0.1)\n",
      "Requirement already satisfied: attrs>=17.3.0 in /Users/tim/env/lib/python3.9/site-packages (from aiohttp!=4.0.0a0,!=4.0.0a1->s3fs>=2022.11->earthaccess->-r ../requirements.txt (line 13)) (24.2.0)\n",
      "Requirement already satisfied: frozenlist>=1.1.1 in /Users/tim/env/lib/python3.9/site-packages (from aiohttp!=4.0.0a0,!=4.0.0a1->s3fs>=2022.11->earthaccess->-r ../requirements.txt (line 13)) (1.5.0)\n",
      "Requirement already satisfied: multidict<7.0,>=4.5 in /Users/tim/env/lib/python3.9/site-packages (from aiohttp!=4.0.0a0,!=4.0.0a1->s3fs>=2022.11->earthaccess->-r ../requirements.txt (line 13)) (6.1.0)\n",
      "Requirement already satisfied: propcache>=0.2.0 in /Users/tim/env/lib/python3.9/site-packages (from aiohttp!=4.0.0a0,!=4.0.0a1->s3fs>=2022.11->earthaccess->-r ../requirements.txt (line 13)) (0.2.1)\n",
      "Requirement already satisfied: yarl<2.0,>=1.17.0 in /Users/tim/env/lib/python3.9/site-packages (from aiohttp!=4.0.0a0,!=4.0.0a1->s3fs>=2022.11->earthaccess->-r ../requirements.txt (line 13)) (1.18.3)\n",
      "Requirement already satisfied: webencodings in /Users/tim/env/lib/python3.9/site-packages (from bleach!=5.0.0->nbconvert->jupyter->-r ../requirements.txt (line 8)) (0.5.1)\n",
      "Requirement already satisfied: anyio in /Users/tim/env/lib/python3.9/site-packages (from httpx>=0.25.0->jupyterlab->jupyter->-r ../requirements.txt (line 8)) (4.6.2.post1)\n",
      "Requirement already satisfied: httpcore==1.* in /Users/tim/env/lib/python3.9/site-packages (from httpx>=0.25.0->jupyterlab->jupyter->-r ../requirements.txt (line 8)) (1.0.7)\n",
      "Requirement already satisfied: sniffio in /Users/tim/env/lib/python3.9/site-packages (from httpx>=0.25.0->jupyterlab->jupyter->-r ../requirements.txt (line 8)) (1.3.1)\n",
      "Requirement already satisfied: h11<0.15,>=0.13 in /Users/tim/env/lib/python3.9/site-packages (from httpcore==1.*->httpx>=0.25.0->jupyterlab->jupyter->-r ../requirements.txt (line 8)) (0.14.0)\n",
      "Requirement already satisfied: decorator in /Users/tim/env/lib/python3.9/site-packages (from ipython>=7.23.1->ipykernel->jupyter->-r ../requirements.txt (line 8)) (5.1.1)\n",
      "Requirement already satisfied: jedi>=0.16 in /Users/tim/env/lib/python3.9/site-packages (from ipython>=7.23.1->ipykernel->jupyter->-r ../requirements.txt (line 8)) (0.19.2)\n",
      "Requirement already satisfied: stack-data in /Users/tim/env/lib/python3.9/site-packages (from ipython>=7.23.1->ipykernel->jupyter->-r ../requirements.txt (line 8)) (0.6.3)\n",
      "Requirement already satisfied: exceptiongroup in /Users/tim/env/lib/python3.9/site-packages (from ipython>=7.23.1->ipykernel->jupyter->-r ../requirements.txt (line 8)) (1.2.2)\n",
      "Requirement already satisfied: pexpect>4.3 in /Users/tim/env/lib/python3.9/site-packages (from ipython>=7.23.1->ipykernel->jupyter->-r ../requirements.txt (line 8)) (4.9.0)\n",
      "Requirement already satisfied: platformdirs>=2.5 in /Users/tim/env/lib/python3.9/site-packages (from jupyter-core!=5.0.*,>=4.12->ipykernel->jupyter->-r ../requirements.txt (line 8)) (4.3.6)\n",
      "Requirement already satisfied: argon2-cffi>=21.1 in /Users/tim/env/lib/python3.9/site-packages (from jupyter-server<3,>=2.4.0->jupyterlab->jupyter->-r ../requirements.txt (line 8)) (23.1.0)\n",
      "Requirement already satisfied: jupyter-events>=0.9.0 in /Users/tim/env/lib/python3.9/site-packages (from jupyter-server<3,>=2.4.0->jupyterlab->jupyter->-r ../requirements.txt (line 8)) (0.10.0)\n",
      "Requirement already satisfied: jupyter-server-terminals>=0.4.4 in /Users/tim/env/lib/python3.9/site-packages (from jupyter-server<3,>=2.4.0->jupyterlab->jupyter->-r ../requirements.txt (line 8)) (0.5.3)\n",
      "Requirement already satisfied: overrides>=5.0 in /Users/tim/env/lib/python3.9/site-packages (from jupyter-server<3,>=2.4.0->jupyterlab->jupyter->-r ../requirements.txt (line 8)) (7.7.0)\n",
      "Requirement already satisfied: prometheus-client>=0.9 in /Users/tim/env/lib/python3.9/site-packages (from jupyter-server<3,>=2.4.0->jupyterlab->jupyter->-r ../requirements.txt (line 8)) (0.21.0)\n",
      "Requirement already satisfied: send2trash>=1.8.2 in /Users/tim/env/lib/python3.9/site-packages (from jupyter-server<3,>=2.4.0->jupyterlab->jupyter->-r ../requirements.txt (line 8)) (1.8.3)\n",
      "Requirement already satisfied: terminado>=0.8.3 in /Users/tim/env/lib/python3.9/site-packages (from jupyter-server<3,>=2.4.0->jupyterlab->jupyter->-r ../requirements.txt (line 8)) (0.18.1)\n",
      "Requirement already satisfied: websocket-client>=1.7 in /Users/tim/env/lib/python3.9/site-packages (from jupyter-server<3,>=2.4.0->jupyterlab->jupyter->-r ../requirements.txt (line 8)) (1.8.0)\n",
      "Requirement already satisfied: babel>=2.10 in /Users/tim/env/lib/python3.9/site-packages (from jupyterlab-server<3,>=2.27.1->jupyterlab->jupyter->-r ../requirements.txt (line 8)) (2.16.0)\n",
      "Requirement already satisfied: json5>=0.9.0 in /Users/tim/env/lib/python3.9/site-packages (from jupyterlab-server<3,>=2.27.1->jupyterlab->jupyter->-r ../requirements.txt (line 8)) (0.9.28)\n",
      "Requirement already satisfied: jsonschema>=4.18.0 in /Users/tim/env/lib/python3.9/site-packages (from jupyterlab-server<3,>=2.27.1->jupyterlab->jupyter->-r ../requirements.txt (line 8)) (4.23.0)\n",
      "Requirement already satisfied: fastjsonschema>=2.15 in /Users/tim/env/lib/python3.9/site-packages (from nbformat>=5.7->nbconvert->jupyter->-r ../requirements.txt (line 8)) (2.20.0)\n",
      "Requirement already satisfied: wcwidth in /Users/tim/env/lib/python3.9/site-packages (from prompt-toolkit>=3.0.30->jupyter-console->jupyter->-r ../requirements.txt (line 8)) (0.2.13)\n",
      "Requirement already satisfied: soupsieve>1.2 in /Users/tim/env/lib/python3.9/site-packages (from beautifulsoup4->nbconvert->jupyter->-r ../requirements.txt (line 8)) (2.6)\n",
      "Requirement already satisfied: argon2-cffi-bindings in /Users/tim/env/lib/python3.9/site-packages (from argon2-cffi>=21.1->jupyter-server<3,>=2.4.0->jupyterlab->jupyter->-r ../requirements.txt (line 8)) (21.2.0)\n",
      "Requirement already satisfied: jmespath<2.0.0,>=0.7.1 in /Users/tim/env/lib/python3.9/site-packages (from botocore<1.35.82,>=1.35.74->aiobotocore<3.0.0,>=2.5.4->s3fs>=2022.11->earthaccess->-r ../requirements.txt (line 13)) (1.0.1)\n",
      "Requirement already satisfied: parso<0.9.0,>=0.8.4 in /Users/tim/env/lib/python3.9/site-packages (from jedi>=0.16->ipython>=7.23.1->ipykernel->jupyter->-r ../requirements.txt (line 8)) (0.8.4)\n",
      "Requirement already satisfied: jsonschema-specifications>=2023.03.6 in /Users/tim/env/lib/python3.9/site-packages (from jsonschema>=4.18.0->jupyterlab-server<3,>=2.27.1->jupyterlab->jupyter->-r ../requirements.txt (line 8)) (2024.10.1)\n",
      "Requirement already satisfied: referencing>=0.28.4 in /Users/tim/env/lib/python3.9/site-packages (from jsonschema>=4.18.0->jupyterlab-server<3,>=2.27.1->jupyterlab->jupyter->-r ../requirements.txt (line 8)) (0.35.1)\n",
      "Requirement already satisfied: rpds-py>=0.7.1 in /Users/tim/env/lib/python3.9/site-packages (from jsonschema>=4.18.0->jupyterlab-server<3,>=2.27.1->jupyterlab->jupyter->-r ../requirements.txt (line 8)) (0.21.0)\n",
      "Requirement already satisfied: python-json-logger>=2.0.4 in /Users/tim/env/lib/python3.9/site-packages (from jupyter-events>=0.9.0->jupyter-server<3,>=2.4.0->jupyterlab->jupyter->-r ../requirements.txt (line 8)) (2.0.7)\n",
      "Requirement already satisfied: pyyaml>=5.3 in /Users/tim/env/lib/python3.9/site-packages (from jupyter-events>=0.9.0->jupyter-server<3,>=2.4.0->jupyterlab->jupyter->-r ../requirements.txt (line 8)) (6.0.2)\n",
      "Requirement already satisfied: rfc3339-validator in /Users/tim/env/lib/python3.9/site-packages (from jupyter-events>=0.9.0->jupyter-server<3,>=2.4.0->jupyterlab->jupyter->-r ../requirements.txt (line 8)) (0.1.4)\n",
      "Requirement already satisfied: rfc3986-validator>=0.1.1 in /Users/tim/env/lib/python3.9/site-packages (from jupyter-events>=0.9.0->jupyter-server<3,>=2.4.0->jupyterlab->jupyter->-r ../requirements.txt (line 8)) (0.1.1)\n",
      "Requirement already satisfied: ptyprocess>=0.5 in /Users/tim/env/lib/python3.9/site-packages (from pexpect>4.3->ipython>=7.23.1->ipykernel->jupyter->-r ../requirements.txt (line 8)) (0.7.0)\n",
      "Requirement already satisfied: executing>=1.2.0 in /Users/tim/env/lib/python3.9/site-packages (from stack-data->ipython>=7.23.1->ipykernel->jupyter->-r ../requirements.txt (line 8)) (2.1.0)\n",
      "Requirement already satisfied: asttokens>=2.1.0 in /Users/tim/env/lib/python3.9/site-packages (from stack-data->ipython>=7.23.1->ipykernel->jupyter->-r ../requirements.txt (line 8)) (2.4.1)\n",
      "Requirement already satisfied: pure-eval in /Users/tim/env/lib/python3.9/site-packages (from stack-data->ipython>=7.23.1->ipykernel->jupyter->-r ../requirements.txt (line 8)) (0.2.3)\n",
      "Requirement already satisfied: fqdn in /Users/tim/env/lib/python3.9/site-packages (from jsonschema[format-nongpl]>=4.18.0->jupyter-events>=0.9.0->jupyter-server<3,>=2.4.0->jupyterlab->jupyter->-r ../requirements.txt (line 8)) (1.5.1)\n",
      "Requirement already satisfied: isoduration in /Users/tim/env/lib/python3.9/site-packages (from jsonschema[format-nongpl]>=4.18.0->jupyter-events>=0.9.0->jupyter-server<3,>=2.4.0->jupyterlab->jupyter->-r ../requirements.txt (line 8)) (20.11.0)\n",
      "Requirement already satisfied: jsonpointer>1.13 in /Users/tim/env/lib/python3.9/site-packages (from jsonschema[format-nongpl]>=4.18.0->jupyter-events>=0.9.0->jupyter-server<3,>=2.4.0->jupyterlab->jupyter->-r ../requirements.txt (line 8)) (3.0.0)\n",
      "Requirement already satisfied: uri-template in /Users/tim/env/lib/python3.9/site-packages (from jsonschema[format-nongpl]>=4.18.0->jupyter-events>=0.9.0->jupyter-server<3,>=2.4.0->jupyterlab->jupyter->-r ../requirements.txt (line 8)) (1.3.0)\n",
      "Requirement already satisfied: webcolors>=24.6.0 in /Users/tim/env/lib/python3.9/site-packages (from jsonschema[format-nongpl]>=4.18.0->jupyter-events>=0.9.0->jupyter-server<3,>=2.4.0->jupyterlab->jupyter->-r ../requirements.txt (line 8)) (24.11.1)\n",
      "Requirement already satisfied: cffi>=1.0.1 in /Users/tim/env/lib/python3.9/site-packages (from argon2-cffi-bindings->argon2-cffi>=21.1->jupyter-server<3,>=2.4.0->jupyterlab->jupyter->-r ../requirements.txt (line 8)) (1.17.1)\n",
      "Requirement already satisfied: pycparser in /Users/tim/env/lib/python3.9/site-packages (from cffi>=1.0.1->argon2-cffi-bindings->argon2-cffi>=21.1->jupyter-server<3,>=2.4.0->jupyterlab->jupyter->-r ../requirements.txt (line 8)) (2.22)\n",
      "Requirement already satisfied: arrow>=0.15.0 in /Users/tim/env/lib/python3.9/site-packages (from isoduration->jsonschema[format-nongpl]>=4.18.0->jupyter-events>=0.9.0->jupyter-server<3,>=2.4.0->jupyterlab->jupyter->-r ../requirements.txt (line 8)) (1.3.0)\n",
      "Requirement already satisfied: types-python-dateutil>=2.8.10 in /Users/tim/env/lib/python3.9/site-packages (from arrow>=0.15.0->isoduration->jsonschema[format-nongpl]>=4.18.0->jupyter-events>=0.9.0->jupyter-server<3,>=2.4.0->jupyterlab->jupyter->-r ../requirements.txt (line 8)) (2.9.0.20241003)\n",
      "Downloading h5py-3.12.1-cp39-cp39-macosx_11_0_arm64.whl (2.9 MB)\n",
      "\u001b[2K   \u001b[38;2;114;156;31m━━━━━━━━━━━━━━━━━━━━━━━━━━━━━━━━━━━━━━━━\u001b[0m \u001b[32m2.9/2.9 MB\u001b[0m \u001b[31m36.6 MB/s\u001b[0m eta \u001b[36m0:00:00\u001b[0m\n",
      "\u001b[?25hInstalling collected packages: h5py\n",
      "Successfully installed h5py-3.12.1\n"
     ]
    }
   ],
   "source": [
    "!pip install -r ../requirements.txt"
   ]
  },
  {
   "cell_type": "code",
   "execution_count": 26,
   "id": "2e6a1a19-4203-4a6c-900d-5ba5e9b76ce2",
   "metadata": {},
   "outputs": [],
   "source": [
    "# Dependencies\n",
    "import os\n",
    "import numpy as np \n",
    "import matplotlib.pyplot as plt\n",
    "import cv2 as cv\n",
    "from tqdm import tqdm\n",
    "import earthaccess\n",
    "import h5py"
   ]
  },
  {
   "cell_type": "markdown",
   "id": "7c317be7-9f29-4635-9ba2-ddb82e312bc0",
   "metadata": {},
   "source": [
    "## Downloading the Data\n",
    "For processing the light pollution data, we will be using NASA VIIRS DNB. Before proceeding, make sure you have a [NASA Earthdata](https://urs.earthdata.nasa.gov/home) account."
   ]
  },
  {
   "cell_type": "code",
   "execution_count": 8,
   "id": "81a6993a-0c37-4c7d-98f7-0d52c69845ef",
   "metadata": {},
   "outputs": [],
   "source": [
    "# Creating Directory to Store the Data\n",
    "dataDir = '../data/lightpollution'\n",
    "os.makedirs(dataDir,exist_ok=True)"
   ]
  },
  {
   "cell_type": "markdown",
   "id": "b78555b0-0c3e-43af-90ba-9469d4be0cf3",
   "metadata": {},
   "source": [
    "In the earthdata library, you need to log into your NASA Earthdata account."
   ]
  },
  {
   "cell_type": "code",
   "execution_count": 4,
   "id": "2d37c6bb-7a23-4ba1-a2f0-8a2a9b879bba",
   "metadata": {},
   "outputs": [
    {
     "name": "stdin",
     "output_type": "stream",
     "text": [
      "Enter your Earthdata Login username:  dotimothy\n",
      "Enter your Earthdata password:  ········\n"
     ]
    },
    {
     "name": "stdout",
     "output_type": "stream",
     "text": [
      "Earthdata Logged In: True\n"
     ]
    }
   ],
   "source": [
    "# Authenticate with your Earthdata Login credentials\n",
    "auth = earthaccess.login()\n",
    "print(f'Earthdata Logged In: {auth.authenticated}')"
   ]
  },
  {
   "cell_type": "code",
   "execution_count": 69,
   "id": "2c8b60b7-3a99-4f97-9c2e-bf003e4b653e",
   "metadata": {},
   "outputs": [
    {
     "data": {
      "application/vnd.jupyter.widget-view+json": {
       "model_id": "ddbeb36ca9254dc59d0c95d5317deeb0",
       "version_major": 2,
       "version_minor": 0
      },
      "text/plain": [
       "QUEUEING TASKS | :   0%|          | 0/1 [00:00<?, ?it/s]"
      ]
     },
     "metadata": {},
     "output_type": "display_data"
    },
    {
     "data": {
      "application/vnd.jupyter.widget-view+json": {
       "model_id": "0373c4463c254a9faf973e6847e51632",
       "version_major": 2,
       "version_minor": 0
      },
      "text/plain": [
       "PROCESSING TASKS | :   0%|          | 0/1 [00:00<?, ?it/s]"
      ]
     },
     "metadata": {},
     "output_type": "display_data"
    },
    {
     "data": {
      "application/vnd.jupyter.widget-view+json": {
       "model_id": "6b0f61e7286e49e6ac3cca861f8b76c5",
       "version_major": 2,
       "version_minor": 0
      },
      "text/plain": [
       "COLLECTING RESULTS | :   0%|          | 0/1 [00:00<?, ?it/s]"
      ]
     },
     "metadata": {},
     "output_type": "display_data"
    }
   ],
   "source": [
    "results = earthaccess.search_data(\n",
    "    short_name='VNP46A1',\n",
    "    temporal=('2024-12-20','2024-12-20'),\n",
    "    count=1\n",
    ")\n",
    "\n",
    "h5files = earthaccess.download(results, dataDir)"
   ]
  },
  {
   "cell_type": "code",
   "execution_count": 70,
   "id": "6fac0156-62bb-4f42-808d-b4ba140c8413",
   "metadata": {},
   "outputs": [
    {
     "name": "stdout",
     "output_type": "stream",
     "text": [
      "<KeysViewHDF5 ['BrightnessTemperature_M12', 'BrightnessTemperature_M13', 'BrightnessTemperature_M15', 'BrightnessTemperature_M16', 'DNB_At_Sensor_Radiance_500m', 'Glint_Angle', 'Granule', 'Lunar_Azimuth', 'Lunar_Zenith', 'Moon_Illumination_Fraction', 'Moon_Phase_Angle', 'QF_Cloud_Mask', 'QF_DNB', 'QF_VIIRS_M10', 'QF_VIIRS_M11', 'QF_VIIRS_M12', 'QF_VIIRS_M13', 'QF_VIIRS_M15', 'QF_VIIRS_M16', 'Radiance_M10', 'Radiance_M11', 'Sensor_Azimuth', 'Sensor_Zenith', 'Solar_Azimuth', 'Solar_Zenith', 'UTC_Time']>\n"
     ]
    }
   ],
   "source": [
    "testFile = h5files[0]\n",
    "with h5py.File(testFile,'r') as f:\n",
    "    print(f['HDFEOS']['GRIDS']['VNP_Grid_DNB']['Data Fields'].keys())\n",
    "    dnb = f['HDFEOS']['GRIDS']['VNP_Grid_DNB']['Data Fields']['DNB_At_Sensor_Radiance_500m'][:]"
   ]
  },
  {
   "cell_type": "code",
   "execution_count": 71,
   "id": "4823cc2a-7762-4115-af33-6d3da4587861",
   "metadata": {},
   "outputs": [
    {
     "data": {
      "image/png": "[encoded data removed]",
      "text/plain": [
       "<Figure size 1500x1500 with 1 Axes>"
      ]
     },
     "metadata": {},
     "output_type": "display_data"
    }
   ],
   "source": [
    "plt.figure(figsize=(15,15))\n",
    "plt.imshow(dnb,cmap='jet')\n",
    "plt.show()"
   ]
  },
  {
   "cell_type": "code",
   "execution_count": null,
   "id": "2cf1de66-c946-43c4-8bc9-06be11ff725e",
   "metadata": {},
   "outputs": [],
   "source": []
  }
 ],
 "metadata": {
  "kernelspec": {
   "display_name": "Python 3 (ipykernel)",
   "language": "python",
   "name": "python3"
  },
  "language_info": {
   "codemirror_mode": {
    "name": "ipython",
    "version": 3
   },
   "file_extension": ".py",
   "mimetype": "text/x-python",
   "name": "python",
   "nbconvert_exporter": "python",
   "pygments_lexer": "ipython3",
   "version": "3.9.6"
  }
 },
 "nbformat": 4,
 "nbformat_minor": 5
}
